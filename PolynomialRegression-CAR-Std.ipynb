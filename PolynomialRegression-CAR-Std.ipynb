{
 "cells": [
  {
   "cell_type": "code",
   "execution_count": 1,
   "metadata": {},
   "outputs": [],
   "source": [
    "import pandas as pd\n",
    "import numpy as np\n",
    "import matplotlib.pyplot as plt\n",
    "import seaborn as sns\n",
    "%matplotlib inline"
   ]
  },
  {
   "cell_type": "code",
   "execution_count": 2,
   "metadata": {},
   "outputs": [],
   "source": [
    "carmod = pd.read_csv('Car_Model.csv')"
   ]
  },
  {
   "cell_type": "code",
   "execution_count": 3,
   "metadata": {},
   "outputs": [
    {
     "data": {
      "text/plain": [
       "(398, 9)"
      ]
     },
     "execution_count": 3,
     "metadata": {},
     "output_type": "execute_result"
    }
   ],
   "source": [
    "carmod.shape"
   ]
  },
  {
   "cell_type": "code",
   "execution_count": 4,
   "metadata": {},
   "outputs": [],
   "source": [
    "#carmod.info()"
   ]
  },
  {
   "cell_type": "code",
   "execution_count": 5,
   "metadata": {},
   "outputs": [
    {
     "data": {
      "text/plain": [
       "mpg             float64\n",
       "Cylinders         int64\n",
       "displacement    float64\n",
       "Horsepower       object\n",
       "Weight            int64\n",
       "accelaration    float64\n",
       "ModelYear         int64\n",
       "Version           int64\n",
       "Carname          object\n",
       "dtype: object"
      ]
     },
     "execution_count": 5,
     "metadata": {},
     "output_type": "execute_result"
    }
   ],
   "source": [
    "carmod.dtypes\n"
   ]
  },
  {
   "cell_type": "code",
   "execution_count": 6,
   "metadata": {},
   "outputs": [],
   "source": [
    "#carmod.describe(include='all')"
   ]
  },
  {
   "cell_type": "code",
   "execution_count": 7,
   "metadata": {},
   "outputs": [
    {
     "data": {
      "text/plain": [
       "Index(['mpg', 'Cylinders', 'displacement', 'Horsepower', 'Weight',\n",
       "       'accelaration', 'ModelYear', 'Version', 'Carname'],\n",
       "      dtype='object')"
      ]
     },
     "execution_count": 7,
     "metadata": {},
     "output_type": "execute_result"
    }
   ],
   "source": [
    "carmod.columns"
   ]
  },
  {
   "cell_type": "code",
   "execution_count": 8,
   "metadata": {},
   "outputs": [],
   "source": [
    "#sns.pairplot(carmod)"
   ]
  },
  {
   "cell_type": "code",
   "execution_count": 9,
   "metadata": {},
   "outputs": [],
   "source": [
    "#sns.distplot(carmod['Weight'])"
   ]
  },
  {
   "cell_type": "code",
   "execution_count": 10,
   "metadata": {},
   "outputs": [
    {
     "data": {
      "text/html": [
       "<div>\n",
       "<style scoped>\n",
       "    .dataframe tbody tr th:only-of-type {\n",
       "        vertical-align: middle;\n",
       "    }\n",
       "\n",
       "    .dataframe tbody tr th {\n",
       "        vertical-align: top;\n",
       "    }\n",
       "\n",
       "    .dataframe thead th {\n",
       "        text-align: right;\n",
       "    }\n",
       "</style>\n",
       "<table border=\"1\" class=\"dataframe\">\n",
       "  <thead>\n",
       "    <tr style=\"text-align: right;\">\n",
       "      <th></th>\n",
       "      <th>mpg</th>\n",
       "      <th>Cylinders</th>\n",
       "      <th>displacement</th>\n",
       "      <th>Weight</th>\n",
       "      <th>accelaration</th>\n",
       "      <th>ModelYear</th>\n",
       "      <th>Version</th>\n",
       "    </tr>\n",
       "  </thead>\n",
       "  <tbody>\n",
       "    <tr>\n",
       "      <th>mpg</th>\n",
       "      <td>1.000000</td>\n",
       "      <td>-0.775396</td>\n",
       "      <td>-0.804203</td>\n",
       "      <td>-0.831741</td>\n",
       "      <td>0.420289</td>\n",
       "      <td>0.579267</td>\n",
       "      <td>0.563450</td>\n",
       "    </tr>\n",
       "    <tr>\n",
       "      <th>Cylinders</th>\n",
       "      <td>-0.775396</td>\n",
       "      <td>1.000000</td>\n",
       "      <td>0.950721</td>\n",
       "      <td>0.896017</td>\n",
       "      <td>-0.505419</td>\n",
       "      <td>-0.348746</td>\n",
       "      <td>-0.562543</td>\n",
       "    </tr>\n",
       "    <tr>\n",
       "      <th>displacement</th>\n",
       "      <td>-0.804203</td>\n",
       "      <td>0.950721</td>\n",
       "      <td>1.000000</td>\n",
       "      <td>0.932824</td>\n",
       "      <td>-0.543684</td>\n",
       "      <td>-0.370164</td>\n",
       "      <td>-0.609409</td>\n",
       "    </tr>\n",
       "    <tr>\n",
       "      <th>Weight</th>\n",
       "      <td>-0.831741</td>\n",
       "      <td>0.896017</td>\n",
       "      <td>0.932824</td>\n",
       "      <td>1.000000</td>\n",
       "      <td>-0.417457</td>\n",
       "      <td>-0.306564</td>\n",
       "      <td>-0.581024</td>\n",
       "    </tr>\n",
       "    <tr>\n",
       "      <th>accelaration</th>\n",
       "      <td>0.420289</td>\n",
       "      <td>-0.505419</td>\n",
       "      <td>-0.543684</td>\n",
       "      <td>-0.417457</td>\n",
       "      <td>1.000000</td>\n",
       "      <td>0.288137</td>\n",
       "      <td>0.205873</td>\n",
       "    </tr>\n",
       "    <tr>\n",
       "      <th>ModelYear</th>\n",
       "      <td>0.579267</td>\n",
       "      <td>-0.348746</td>\n",
       "      <td>-0.370164</td>\n",
       "      <td>-0.306564</td>\n",
       "      <td>0.288137</td>\n",
       "      <td>1.000000</td>\n",
       "      <td>0.180662</td>\n",
       "    </tr>\n",
       "    <tr>\n",
       "      <th>Version</th>\n",
       "      <td>0.563450</td>\n",
       "      <td>-0.562543</td>\n",
       "      <td>-0.609409</td>\n",
       "      <td>-0.581024</td>\n",
       "      <td>0.205873</td>\n",
       "      <td>0.180662</td>\n",
       "      <td>1.000000</td>\n",
       "    </tr>\n",
       "  </tbody>\n",
       "</table>\n",
       "</div>"
      ],
      "text/plain": [
       "                   mpg  Cylinders  displacement    Weight  accelaration  \\\n",
       "mpg           1.000000  -0.775396     -0.804203 -0.831741      0.420289   \n",
       "Cylinders    -0.775396   1.000000      0.950721  0.896017     -0.505419   \n",
       "displacement -0.804203   0.950721      1.000000  0.932824     -0.543684   \n",
       "Weight       -0.831741   0.896017      0.932824  1.000000     -0.417457   \n",
       "accelaration  0.420289  -0.505419     -0.543684 -0.417457      1.000000   \n",
       "ModelYear     0.579267  -0.348746     -0.370164 -0.306564      0.288137   \n",
       "Version       0.563450  -0.562543     -0.609409 -0.581024      0.205873   \n",
       "\n",
       "              ModelYear   Version  \n",
       "mpg            0.579267  0.563450  \n",
       "Cylinders     -0.348746 -0.562543  \n",
       "displacement  -0.370164 -0.609409  \n",
       "Weight        -0.306564 -0.581024  \n",
       "accelaration   0.288137  0.205873  \n",
       "ModelYear      1.000000  0.180662  \n",
       "Version        0.180662  1.000000  "
      ]
     },
     "execution_count": 10,
     "metadata": {},
     "output_type": "execute_result"
    }
   ],
   "source": [
    "corr=carmod.corr()\n",
    "corr"
   ]
  },
  {
   "cell_type": "code",
   "execution_count": 11,
   "metadata": {},
   "outputs": [
    {
     "data": {
      "text/plain": [
       "<matplotlib.axes._subplots.AxesSubplot at 0x1752b06c1d0>"
      ]
     },
     "execution_count": 11,
     "metadata": {},
     "output_type": "execute_result"
    },
    {
     "data": {
      "image/png": "[encoded data removed]",
      "text/plain": [
       "<Figure size 432x288 with 2 Axes>"
      ]
     },
     "metadata": {
      "needs_background": "light"
     },
     "output_type": "display_data"
    }
   ],
   "source": [
    "sns.heatmap(corr,xticklabels=corr.columns,yticklabels=corr.columns)"
   ]
  },
  {
   "cell_type": "code",
   "execution_count": 12,
   "metadata": {},
   "outputs": [],
   "source": [
    "x = carmod[['Weight','displacement','Cylinders','ModelYear','Version','accelaration']]\n",
    "y = carmod['mpg']"
   ]
  },
  {
   "cell_type": "code",
   "execution_count": 13,
   "metadata": {},
   "outputs": [],
   "source": [
    "#x"
   ]
  },
  {
   "cell_type": "code",
   "execution_count": 14,
   "metadata": {},
   "outputs": [],
   "source": [
    "from sklearn.model_selection import train_test_split\n",
    "x_train, x_test, y_train, y_test = train_test_split(x, y, test_size=0.2, random_state = 100)"
   ]
  },
  {
   "cell_type": "code",
   "execution_count": 15,
   "metadata": {},
   "outputs": [
    {
     "name": "stderr",
     "output_type": "stream",
     "text": [
      "C:\\Users\\HP\\Anaconda3\\lib\\site-packages\\sklearn\\preprocessing\\data.py:645: DataConversionWarning: Data with input dtype int64, float64 were all converted to float64 by StandardScaler.\n",
      "  return self.partial_fit(X, y)\n",
      "C:\\Users\\HP\\Anaconda3\\lib\\site-packages\\sklearn\\base.py:464: DataConversionWarning: Data with input dtype int64, float64 were all converted to float64 by StandardScaler.\n",
      "  return self.fit(X, **fit_params).transform(X)\n",
      "C:\\Users\\HP\\Anaconda3\\lib\\site-packages\\ipykernel_launcher.py:4: DataConversionWarning: Data with input dtype int64, float64 were all converted to float64 by StandardScaler.\n",
      "  after removing the cwd from sys.path.\n"
     ]
    }
   ],
   "source": [
    "from sklearn.preprocessing import StandardScaler\n",
    "scaler = StandardScaler()\n",
    "x_train = scaler.fit_transform(x_train)\n",
    "x_test = scaler.transform(x_test)"
   ]
  },
  {
   "cell_type": "code",
   "execution_count": 16,
   "metadata": {},
   "outputs": [],
   "source": [
    "from sklearn.preprocessing import PolynomialFeatures\n",
    "poly = PolynomialFeatures(degree=2)\n",
    "poly_train = poly.fit_transform(x_train)"
   ]
  },
  {
   "cell_type": "code",
   "execution_count": 17,
   "metadata": {},
   "outputs": [],
   "source": [
    "#x_train\n",
    "#x_test"
   ]
  },
  {
   "cell_type": "code",
   "execution_count": 18,
   "metadata": {},
   "outputs": [
    {
     "data": {
      "text/plain": [
       "LinearRegression(copy_X=True, fit_intercept=True, n_jobs=None,\n",
       "         normalize=False)"
      ]
     },
     "execution_count": 18,
     "metadata": {},
     "output_type": "execute_result"
    }
   ],
   "source": [
    "from sklearn.linear_model import LinearRegression\n",
    "lm = LinearRegression()\n",
    "lm.fit(poly_train,y_train)"
   ]
  },
  {
   "cell_type": "code",
   "execution_count": 19,
   "metadata": {},
   "outputs": [],
   "source": [
    "poly_test = poly.transform(x_test)"
   ]
  },
  {
   "cell_type": "code",
   "execution_count": 20,
   "metadata": {},
   "outputs": [
    {
     "name": "stdout",
     "output_type": "stream",
     "text": [
      "30166057334419.984\n"
     ]
    }
   ],
   "source": [
    "print(lm.intercept_)"
   ]
  },
  {
   "cell_type": "code",
   "execution_count": 21,
   "metadata": {},
   "outputs": [],
   "source": [
    "#pd.DataFrame(lm.coef_,x.columns,columns=['Coefficient'])"
   ]
  },
  {
   "cell_type": "code",
   "execution_count": 22,
   "metadata": {},
   "outputs": [
    {
     "data": {
      "image/png": "[encoded data removed]",
      "text/plain": [
       "<Figure size 432x288 with 1 Axes>"
      ]
     },
     "metadata": {
      "needs_background": "light"
     },
     "output_type": "display_data"
    },
    {
     "data": {
      "text/plain": [
       "array([36.48828125, 31.1015625 , 18.48828125, 20.22265625, 29.796875  ,\n",
       "       21.21875   , 18.22265625, 23.17578125, 15.015625  , 26.671875  ,\n",
       "       20.15234375, 30.59765625, 19.51171875, 29.125     , 23.8359375 ,\n",
       "       17.484375  , 17.40625   , 26.87109375, 24.69921875, 19.72265625,\n",
       "       30.625     , 24.82421875, 31.90234375, 23.40234375, 17.734375  ,\n",
       "       13.77734375, 24.20703125, 13.84375   , 28.5703125 , 14.82421875,\n",
       "       38.01953125, 24.8046875 , 20.171875  , 24.96875   , 25.96875   ,\n",
       "       21.2578125 , 15.58203125, 30.16796875, 15.75390625, 14.94140625,\n",
       "       13.75      , 13.1328125 , 15.2734375 , 33.6796875 , 15.69921875,\n",
       "       22.38671875, 13.5703125 , 15.34765625, 19.8046875 , 34.32421875,\n",
       "       26.65625   , 23.7421875 , 37.34765625, 18.6640625 , 19.9375    ,\n",
       "       15.44921875, 23.51953125, 26.59765625, 13.55859375, 34.3984375 ,\n",
       "       30.61328125, 21.74609375, 24.9765625 , 16.7265625 , 35.89453125,\n",
       "       16.34765625, 23.23046875, 15.8984375 , 30.8125    , 13.62109375,\n",
       "       32.7890625 , 14.1640625 , 36.67578125, 15.17578125, 31.265625  ,\n",
       "       30.01953125, 13.50390625, 32.1953125 , 19.69140625, 28.05859375])"
      ]
     },
     "execution_count": 22,
     "metadata": {},
     "output_type": "execute_result"
    }
   ],
   "source": [
    "predictions = lm.predict(poly_test)\n",
    "plt.scatter(y_test,predictions)\n",
    "plt.show()\n",
    "predictions"
   ]
  },
  {
   "cell_type": "code",
   "execution_count": 23,
   "metadata": {},
   "outputs": [
    {
     "name": "stdout",
     "output_type": "stream",
     "text": [
      "MAE : 1.765869140625\n",
      "MSE : 5.2675580978393555\n",
      "RMSE: 2.2951161403814306\n"
     ]
    }
   ],
   "source": [
    "from sklearn import metrics\n",
    "print('MAE :', metrics.mean_absolute_error(y_test,predictions))\n",
    "print('MSE :', metrics.mean_squared_error(y_test,predictions))\n",
    "print('RMSE:', np.sqrt(metrics.mean_squared_error(y_test,predictions)))"
   ]
  },
  {
   "cell_type": "code",
   "execution_count": 24,
   "metadata": {},
   "outputs": [
    {
     "data": {
      "text/plain": [
       "0.9058473117118601"
      ]
     },
     "execution_count": 24,
     "metadata": {},
     "output_type": "execute_result"
    }
   ],
   "source": [
    "r2_test=lm.score(poly_test,y_test)\n",
    "r2_test"
   ]
  },
  {
   "cell_type": "code",
   "execution_count": 25,
   "metadata": {},
   "outputs": [
    {
     "data": {
      "text/plain": [
       "0.9058473117118601"
      ]
     },
     "execution_count": 25,
     "metadata": {},
     "output_type": "execute_result"
    }
   ],
   "source": [
    "#other way of finding r-square\n",
    "from sklearn.metrics import r2_score\n",
    "r2_score(y_test,predictions)"
   ]
  },
  {
   "cell_type": "code",
   "execution_count": 26,
   "metadata": {},
   "outputs": [
    {
     "data": {
      "text/plain": [
       "0.8981087345922869"
      ]
     },
     "execution_count": 26,
     "metadata": {},
     "output_type": "execute_result"
    }
   ],
   "source": [
    "adjr2_test = 1-((1-r2_test)*(len(poly_test)-1)/(len(poly_test)-x_test.shape[1]-1))\n",
    "adjr2_test"
   ]
  },
  {
   "cell_type": "code",
   "execution_count": 27,
   "metadata": {},
   "outputs": [
    {
     "data": {
      "image/png": "[encoded data removed]",
      "text/plain": [
       "<Figure size 432x288 with 1 Axes>"
      ]
     },
     "metadata": {
      "needs_background": "light"
     },
     "output_type": "display_data"
    },
    {
     "data": {
      "text/plain": [
       "array([24.12890625, 27.7265625 , 17.34375   , 13.61328125, 14.97265625,\n",
       "       31.90234375, 13.015625  , 37.1875    , 34.35546875, 30.52734375,\n",
       "       23.59375   , 32.515625  , 35.28515625, 32.62890625, 33.609375  ,\n",
       "       13.05078125, 14.1171875 , 14.19140625, 34.3203125 , 18.90234375,\n",
       "       25.78515625, 21.44921875, 15.51953125, 20.1875    , 27.80078125,\n",
       "       30.59375   , 19.875     , 30.06640625, 19.82421875, 28.6875    ,\n",
       "       26.9140625 , 14.59375   , 24.02734375, 25.3984375 , 14.08203125,\n",
       "       24.9296875 , 33.4296875 , 32.16015625, 19.59375   , 24.80078125,\n",
       "       17.12109375, 32.0546875 , 33.80859375, 29.1640625 , 19.69921875,\n",
       "       26.1171875 , 29.1640625 , 27.7421875 , 13.7890625 , 20.27734375,\n",
       "       35.0234375 , 37.76171875, 22.1796875 , 13.01953125, 33.83203125,\n",
       "       16.60546875, 15.515625  , 13.72265625, 32.6484375 , 30.28125   ,\n",
       "       15.9921875 , 14.8828125 , 36.28515625, 35.05078125, 22.07421875,\n",
       "       14.125     , 34.921875  , 23.37109375, 37.4921875 , 27.95703125,\n",
       "       13.703125  , 18.47265625, 17.56640625, 13.17578125, 17.31640625,\n",
       "       18.80078125, 16.6796875 , 29.18359375, 35.9296875 , 14.0390625 ,\n",
       "       33.63671875, 24.33203125, 18.15234375, 35.66015625, 26.1796875 ,\n",
       "       22.25      , 20.28125   , 16.17578125, 25.0078125 , 17.91015625,\n",
       "       38.24609375, 34.5       , 19.9140625 , 14.31640625, 21.53125   ,\n",
       "       14.28125   , 13.875     , 19.99609375, 27.66015625, 35.7421875 ,\n",
       "       18.0078125 , 25.25      , 30.6328125 , 25.05859375, 27.75      ,\n",
       "       13.3671875 , 24.296875  , 36.84375   , 16.46484375, 21.75390625,\n",
       "       26.49609375, 22.71484375, 39.76953125, 28.15234375, 30.75390625,\n",
       "       33.79296875, 33.96875   , 16.37890625, 17.35546875, 13.765625  ,\n",
       "       23.61328125, 19.08984375, 22.21484375, 22.82421875, 17.1015625 ,\n",
       "       14.703125  , 20.55078125, 31.88671875, 28.03515625, 31.421875  ,\n",
       "       15.859375  , 25.98046875, 27.28515625, 40.21875   , 40.0390625 ,\n",
       "       12.3203125 , 36.27734375, 34.23046875, 17.97265625, 23.1796875 ,\n",
       "       19.8203125 , 14.4609375 , 22.40625   , 28.6953125 , 23.31640625,\n",
       "       34.58984375, 29.27734375, 19.6953125 , 17.578125  , 26.609375  ,\n",
       "       27.4609375 , 37.26953125, 19.9609375 , 13.2578125 , 28.9609375 ,\n",
       "       24.88671875, 28.6328125 , 31.7578125 , 43.07421875, 15.0078125 ,\n",
       "       22.39453125, 27.734375  , 14.046875  , 33.42578125, 28.32421875,\n",
       "       29.92578125, 13.61328125, 14.9765625 , 14.73828125, 33.04296875,\n",
       "       32.81640625, 30.35546875, 36.6484375 , 23.9296875 , 23.13671875,\n",
       "       32.80078125, 29.29296875, 24.9921875 , 25.3828125 , 21.21875   ,\n",
       "       22.046875  , 27.61328125, 26.109375  , 29.734375  , 23.21484375,\n",
       "       29.7109375 , 16.3125    , 31.91796875, 25.86328125, 16.20703125,\n",
       "       13.53515625, 25.453125  , 25.39453125, 30.9296875 , 12.11328125,\n",
       "       13.78125   , 29.66796875, 18.73828125, 16.22265625, 13.        ,\n",
       "       24.52734375, 15.1484375 , 31.953125  , 13.390625  , 20.578125  ,\n",
       "       15.77734375, 20.17578125, 14.4296875 , 28.55859375, 15.70703125,\n",
       "       30.64453125, 16.484375  , 17.45703125, 20.3125    , 28.6015625 ,\n",
       "       14.453125  , 22.3671875 , 14.578125  , 16.359375  , 21.37109375,\n",
       "       16.4921875 , 21.65625   , 25.2578125 , 23.50390625, 30.44140625,\n",
       "       16.23046875, 20.26953125, 28.94140625, 18.03515625, 18.4609375 ,\n",
       "       23.0390625 , 29.75390625, 25.95703125, 12.90234375, 21.453125  ,\n",
       "       26.40625   , 13.328125  , 15.36328125, 13.98046875, 20.09375   ,\n",
       "       16.734375  , 30.9765625 , 23.2421875 , 18.74609375, 28.69140625,\n",
       "       15.4765625 , 18.828125  , 14.30859375, 36.16015625, 13.78125   ,\n",
       "       33.25      , 26.68359375, 25.51171875, 15.390625  , 21.9140625 ,\n",
       "       31.5546875 , 13.3984375 , 26.80859375, 20.69921875, 24.875     ,\n",
       "       13.30078125, 12.57421875, 13.8515625 , 28.55859375, 19.1171875 ,\n",
       "       18.96875   , 25.25      , 27.234375  , 32.14453125, 27.69140625,\n",
       "       36.390625  , 30.35546875, 34.16015625, 22.3515625 , 32.9765625 ,\n",
       "       13.84375   , 13.25390625, 16.0703125 , 25.4453125 , 15.9140625 ,\n",
       "       29.05078125, 28.5078125 , 32.4453125 , 20.47265625, 27.9921875 ,\n",
       "       16.16796875, 35.296875  , 13.8984375 , 16.12890625, 18.14453125,\n",
       "       17.625     , 34.9140625 , 26.91796875, 23.875     , 18.484375  ,\n",
       "       14.44921875, 13.76953125, 13.87890625, 26.140625  , 23.33984375,\n",
       "       23.1796875 , 19.296875  , 26.12109375, 29.8828125 , 29.27734375,\n",
       "       17.90234375, 23.1015625 , 19.328125  , 14.5703125 , 29.765625  ,\n",
       "       32.3359375 , 33.22265625, 25.90625   , 38.6015625 , 28.7578125 ,\n",
       "       26.35546875, 21.83203125, 13.453125  ])"
      ]
     },
     "execution_count": 27,
     "metadata": {},
     "output_type": "execute_result"
    }
   ],
   "source": [
    "predictions_train = lm.predict(poly_train)\n",
    "plt.scatter(y_train,predictions_train)\n",
    "plt.show()\n",
    "predictions_train"
   ]
  },
  {
   "cell_type": "code",
   "execution_count": 28,
   "metadata": {},
   "outputs": [
    {
     "name": "stdout",
     "output_type": "stream",
     "text": [
      "MAE : 2.0626326650943394\n",
      "MSE : 7.940414014132517\n",
      "RMSE: 2.8178740238223066\n"
     ]
    }
   ],
   "source": [
    "from sklearn import metrics\n",
    "print('MAE :', metrics.mean_absolute_error(y_train,predictions_train))\n",
    "print('MSE :', metrics.mean_squared_error(y_train,predictions_train))\n",
    "print('RMSE:', np.sqrt(metrics.mean_squared_error(y_train,predictions_train)))"
   ]
  },
  {
   "cell_type": "code",
   "execution_count": 29,
   "metadata": {},
   "outputs": [
    {
     "data": {
      "text/plain": [
       "0.8719963579440329"
      ]
     },
     "execution_count": 29,
     "metadata": {},
     "output_type": "execute_result"
    }
   ],
   "source": [
    "r2_train = lm.score(poly_train,y_train)\n",
    "r2_train"
   ]
  },
  {
   "cell_type": "code",
   "execution_count": 30,
   "metadata": {},
   "outputs": [
    {
     "data": {
      "text/plain": [
       "0.859594620997434"
      ]
     },
     "execution_count": 30,
     "metadata": {},
     "output_type": "execute_result"
    }
   ],
   "source": [
    "adjr2_train=1-((1-r2_train)*(len(poly_train)-1)/(len(poly_train)-poly_train.shape[1]-1))\n",
    "adjr2_train"
   ]
  },
  {
   "cell_type": "code",
   "execution_count": 31,
   "metadata": {},
   "outputs": [
    {
     "data": {
      "text/plain": [
       "array([[-0.54256605, -0.6871441 , -0.83939625, -0.54191927,  1.80673202,\n",
       "        -0.16633395],\n",
       "       [-0.932293  , -0.72564076, -0.83939625, -0.8111854 ,  0.53843007,\n",
       "         0.01886982],\n",
       "       [ 1.18353578,  1.53603771,  1.50722359,  0.80441141, -0.72987188,\n",
       "        -0.83306753],\n",
       "       ...,\n",
       "       [-0.17638756, -0.34067421, -0.83939625,  1.07367755, -0.72987188,\n",
       "        -0.38857848],\n",
       "       [ 0.34756559,  0.38113807,  0.33391367,  0.80441141, -0.72987188,\n",
       "        -0.01817094],\n",
       "       [ 1.73692449,  2.53695073,  1.50722359, -1.61898381, -0.72987188,\n",
       "        -2.01837167]])"
      ]
     },
     "execution_count": 31,
     "metadata": {},
     "output_type": "execute_result"
    }
   ],
   "source": [
    "x_train"
   ]
  },
  {
   "cell_type": "code",
   "execution_count": null,
   "metadata": {},
   "outputs": [],
   "source": []
  },
  {
   "cell_type": "code",
   "execution_count": null,
   "metadata": {},
   "outputs": [],
   "source": []
  }
 ],
 "metadata": {
  "kernelspec": {
   "display_name": "Python 3",
   "language": "python",
   "name": "python3"
  },
  "language_info": {
   "codemirror_mode": {
    "name": "ipython",
    "version": 3
   },
   "file_extension": ".py",
   "mimetype": "text/x-python",
   "name": "python",
   "nbconvert_exporter": "python",
   "pygments_lexer": "ipython3",
   "version": "3.7.3"
  }
 },
 "nbformat": 4,
 "nbformat_minor": 2
}
